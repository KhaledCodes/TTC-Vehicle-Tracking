{
 "cells": [
  {
   "cell_type": "code",
   "execution_count": 4,
   "id": "7285afaa",
   "metadata": {},
   "outputs": [],
   "source": [
    "import py_nextbus\n",
    "import datetime\n",
    "import time\n",
    "from requests.auth import HTTPBasicAuth\n",
    "import requests\n",
    "import json\n",
    "import config"
   ]
  },
  {
   "cell_type": "code",
   "execution_count": 5,
   "id": "5be069b1",
   "metadata": {},
   "outputs": [
    {
     "data": {
      "text/plain": [
       "'test'"
      ]
     },
     "execution_count": 5,
     "metadata": {},
     "output_type": "execute_result"
    }
   ],
   "source": [
    "config.apikey"
   ]
  },
  {
   "cell_type": "code",
   "execution_count": 80,
   "id": "df2fc571",
   "metadata": {},
   "outputs": [],
   "source": [
    "headers = { 'Content-Type': 'application/json',\n",
    "            'apiKey': apikey,\n",
    "          }\n",
    "params = {\n",
    "    \"lat\":\"43.657215\",\n",
    "    \"lon\":\"-79.356534\"\n",
    "}\n",
    "url = 'https://external.transitapp.com/v3/public/nearby_stops'\n",
    "resp = requests.get(url, headers=headers, params=params)"
   ]
  },
  {
   "cell_type": "code",
   "execution_count": 81,
   "id": "653497f5",
   "metadata": {},
   "outputs": [
    {
     "data": {
      "text/plain": [
       "{'stops': [{'distance': 28,\n",
       "   'global_stop_id': 'TTC:126126',\n",
       "   'location_type': 0,\n",
       "   'parent_station_global_stop_id': 'TTC:120695',\n",
       "   'route_type': 0,\n",
       "   'rt_stop_id': '3067',\n",
       "   'stop_code': '3067',\n",
       "   'stop_lat': 43.65745172728229,\n",
       "   'stop_lon': -79.35640411843366,\n",
       "   'stop_name': 'Queen St East / River St',\n",
       "   'wheelchair_boarding': 1},\n",
       "  {'distance': 14,\n",
       "   'global_stop_id': 'TTC:139301',\n",
       "   'location_type': 0,\n",
       "   'parent_station_global_stop_id': None,\n",
       "   'route_type': 3,\n",
       "   'rt_stop_id': '16026',\n",
       "   'stop_code': '16026',\n",
       "   'stop_lat': 43.6572898496219,\n",
       "   'stop_lon': -79.35638613202696,\n",
       "   'stop_name': 'River St / Queen St East',\n",
       "   'wheelchair_boarding': 1},\n",
       "  {'distance': 12,\n",
       "   'global_stop_id': 'TTC:126076',\n",
       "   'location_type': 0,\n",
       "   'parent_station_global_stop_id': 'TTC:120695',\n",
       "   'route_type': 0,\n",
       "   'rt_stop_id': '3066',\n",
       "   'stop_code': '3066',\n",
       "   'stop_lat': 43.65725387680848,\n",
       "   'stop_lon': -79.35667391453431,\n",
       "   'stop_name': 'Queen St East / River St',\n",
       "   'wheelchair_boarding': 2},\n",
       "  {'distance': 46,\n",
       "   'global_stop_id': 'TTC:126389',\n",
       "   'location_type': 0,\n",
       "   'parent_station_global_stop_id': 'TTC:120681',\n",
       "   'route_type': 0,\n",
       "   'rt_stop_id': '4142',\n",
       "   'stop_code': '4142',\n",
       "   'stop_lat': 43.65708300594474,\n",
       "   'stop_lon': -79.35597244467263,\n",
       "   'stop_name': 'King St East / River St',\n",
       "   'wheelchair_boarding': 2},\n",
       "  {'distance': 35,\n",
       "   'global_stop_id': 'TTC:139311',\n",
       "   'location_type': 0,\n",
       "   'parent_station_global_stop_id': None,\n",
       "   'route_type': 3,\n",
       "   'rt_stop_id': '16027',\n",
       "   'stop_code': '16027',\n",
       "   'stop_lat': 43.65693012148771,\n",
       "   'stop_lon': -79.35631418640011,\n",
       "   'stop_name': 'River St / King St East',\n",
       "   'wheelchair_boarding': 1},\n",
       "  {'distance': 57,\n",
       "   'global_stop_id': 'TTC:126366',\n",
       "   'location_type': 0,\n",
       "   'parent_station_global_stop_id': 'TTC:139956',\n",
       "   'route_type': 0,\n",
       "   'rt_stop_id': '15351',\n",
       "   'stop_code': '15351',\n",
       "   'stop_lat': 43.6567322710139,\n",
       "   'stop_lon': -79.35625123397664,\n",
       "   'stop_name': 'King St East / Lower River St',\n",
       "   'wheelchair_boarding': 2}]}"
      ]
     },
     "execution_count": 81,
     "metadata": {},
     "output_type": "execute_result"
    }
   ],
   "source": [
    "resp.json()"
   ]
  },
  {
   "cell_type": "code",
   "execution_count": 91,
   "id": "2f2cf84e",
   "metadata": {},
   "outputs": [],
   "source": [
    "url2 = 'https://external.transitapp.com/v3/public/stop_departures'\n",
    "params = {\n",
    "    'global_stop_id':'TTC:126389'\n",
    "}\n",
    "resp = requests.get(url2, headers = headers, params=params)"
   ]
  },
  {
   "cell_type": "code",
   "execution_count": 116,
   "id": "2524b044",
   "metadata": {},
   "outputs": [],
   "source": [
    "next_departure_time = resp.json()['route_departures'][2]['itineraries'][0]['schedule_items'][1]['departure_time']"
   ]
  },
  {
   "cell_type": "code",
   "execution_count": 117,
   "id": "d66470ce",
   "metadata": {},
   "outputs": [
    {
     "data": {
      "text/plain": [
       "1666749744"
      ]
     },
     "execution_count": 117,
     "metadata": {},
     "output_type": "execute_result"
    }
   ],
   "source": [
    "next_departure_time"
   ]
  },
  {
   "cell_type": "code",
   "execution_count": 123,
   "id": "a0190282",
   "metadata": {},
   "outputs": [],
   "source": [
    "your_dt = datetime.datetime.fromtimestamp(int(next_departure_time)) \n",
    "next_dep_time = your_dt.strftime(\"%Y-%m-%d %H:%M:%S\")  # 2018-04-07 20:48:08, YMMV"
   ]
  },
  {
   "cell_type": "code",
   "execution_count": 131,
   "id": "b5d8a646",
   "metadata": {},
   "outputs": [
    {
     "data": {
      "text/plain": [
       "datetime.datetime"
      ]
     },
     "execution_count": 131,
     "metadata": {},
     "output_type": "execute_result"
    }
   ],
   "source": [
    "type(your_dt)"
   ]
  },
  {
   "cell_type": "code",
   "execution_count": 119,
   "id": "efa33860",
   "metadata": {},
   "outputs": [
    {
     "name": "stdout",
     "output_type": "stream",
     "text": [
      "2022-10-25 21:57:58\n"
     ]
    }
   ],
   "source": [
    "# now datetime object\n",
    "now = dt.datetime.now()\n",
    "print(now.strftime(\"%Y-%m-%d %H:%M:%S\")) \n",
    "now = now.timestamp()*1000\n",
    "# now = int(now)"
   ]
  },
  {
   "cell_type": "code",
   "execution_count": 133,
   "id": "882e6121",
   "metadata": {},
   "outputs": [
    {
     "data": {
      "text/plain": [
       "datetime.timedelta(seconds=63, microseconds=129777)"
      ]
     },
     "execution_count": 133,
     "metadata": {},
     "output_type": "execute_result"
    }
   ],
   "source": [
    "time_till_next = your_dt - dt.datetime.now()\n",
    "time_till_next"
   ]
  },
  {
   "cell_type": "code",
   "execution_count": 5,
   "id": "a2fa2c72",
   "metadata": {},
   "outputs": [],
   "source": [
    "# nextbus api setup\n",
    "client = py_nextbus.NextBusClient(output_format='json')\n",
    "agencies = client.get_agency_list()\n",
    "routes = client.get_route_list('ttc')\n",
    "agency = 'ttc'\n",
    "locations = client.get_vehicle_locations(504,now,agency='ttc')"
   ]
  },
  {
   "cell_type": "code",
   "execution_count": 6,
   "id": "25cc1ba5",
   "metadata": {},
   "outputs": [
    {
     "data": {
      "text/plain": [
       "{'lastTime': {'time': '1665712501171'},\n",
       " 'copyright': 'All data copyright Toronto Transit Commission 2022.',\n",
       " 'Error': {'shouldRetry': 'false',\n",
       "  'content': 'last time \"t\" parameter is not a valid number: 1665712503563.7761'},\n",
       " 'vehicle': [{'routeTag': '504',\n",
       "   'predictable': 'true',\n",
       "   'heading': '286',\n",
       "   'speedKmHr': '9',\n",
       "   'lon': '-79.4046992',\n",
       "   'id': '4574',\n",
       "   'dirTag': '504_1_504B',\n",
       "   'lat': '43.6360667',\n",
       "   'secsSinceReport': '28'},\n",
       "  {'routeTag': '504',\n",
       "   'predictable': 'true',\n",
       "   'heading': '254',\n",
       "   'speedKmHr': '0',\n",
       "   'lon': '-79.4015655',\n",
       "   'id': '8610',\n",
       "   'dirTag': '504_1_504Cbus',\n",
       "   'lat': '43.6441955',\n",
       "   'secsSinceReport': '27'},\n",
       "  {'routeTag': '504',\n",
       "   'predictable': 'true',\n",
       "   'heading': '78',\n",
       "   'speedKmHr': '20',\n",
       "   'lon': '-79.4268722',\n",
       "   'id': '8492',\n",
       "   'dirTag': '504_0_504Cbus',\n",
       "   'lat': '43.6389884',\n",
       "   'secsSinceReport': '28'},\n",
       "  {'routeTag': '504',\n",
       "   'predictable': 'true',\n",
       "   'heading': '345',\n",
       "   'speedKmHr': '0',\n",
       "   'lon': '-79.4004683',\n",
       "   'id': '4402',\n",
       "   'dirTag': '504_0_504B',\n",
       "   'lat': '43.6386433',\n",
       "   'secsSinceReport': '28'},\n",
       "  {'routeTag': '504',\n",
       "   'predictable': 'true',\n",
       "   'heading': '343',\n",
       "   'speedKmHr': '0',\n",
       "   'lon': '-79.4021283',\n",
       "   'id': '4405',\n",
       "   'dirTag': '504_0_504A',\n",
       "   'lat': '43.64255',\n",
       "   'secsSinceReport': '28'},\n",
       "  {'routeTag': '504',\n",
       "   'predictable': 'true',\n",
       "   'heading': '253',\n",
       "   'speedKmHr': '0',\n",
       "   'lon': '-79.3774414',\n",
       "   'id': '4527',\n",
       "   'dirTag': '504_1_504A',\n",
       "   'lat': '43.64925',\n",
       "   'secsSinceReport': '28'},\n",
       "  {'routeTag': '504',\n",
       "   'predictable': 'true',\n",
       "   'heading': '104',\n",
       "   'speedKmHr': '35',\n",
       "   'lon': '-79.4492817',\n",
       "   'id': '8583',\n",
       "   'dirTag': '504_0_504Cbus',\n",
       "   'lat': '43.6388871',\n",
       "   'secsSinceReport': '57'},\n",
       "  {'routeTag': '504',\n",
       "   'predictable': 'true',\n",
       "   'heading': '252',\n",
       "   'speedKmHr': '26',\n",
       "   'lon': '-79.3660125',\n",
       "   'id': '4462',\n",
       "   'dirTag': '504_1_504B',\n",
       "   'lat': '43.6518241',\n",
       "   'secsSinceReport': '28'},\n",
       "  {'routeTag': '504',\n",
       "   'predictable': 'true',\n",
       "   'heading': '73',\n",
       "   'speedKmHr': '0',\n",
       "   'lon': '-79.36837',\n",
       "   'id': '4541',\n",
       "   'dirTag': '504_0_504B',\n",
       "   'lat': '43.6511688',\n",
       "   'secsSinceReport': '28'},\n",
       "  {'routeTag': '504',\n",
       "   'predictable': 'true',\n",
       "   'heading': '344',\n",
       "   'speedKmHr': '33',\n",
       "   'lon': '-79.45455',\n",
       "   'id': '8467',\n",
       "   'dirTag': '504_1_504Cbus',\n",
       "   'lat': '43.6410385',\n",
       "   'secsSinceReport': '27'},\n",
       "  {'routeTag': '504',\n",
       "   'predictable': 'true',\n",
       "   'heading': '230',\n",
       "   'speedKmHr': '21',\n",
       "   'lon': '-79.3602509',\n",
       "   'id': '4456',\n",
       "   'dirTag': '504_1_504A',\n",
       "   'lat': '43.6545332',\n",
       "   'secsSinceReport': '28'},\n",
       "  {'routeTag': '504',\n",
       "   'predictable': 'true',\n",
       "   'heading': '152',\n",
       "   'speedKmHr': '0',\n",
       "   'lon': '-79.3500584',\n",
       "   'id': '4579',\n",
       "   'dirTag': '504_1_504B',\n",
       "   'lat': '43.6590663',\n",
       "   'secsSinceReport': '28'},\n",
       "  {'routeTag': '504',\n",
       "   'predictable': 'true',\n",
       "   'heading': '254',\n",
       "   'speedKmHr': '0',\n",
       "   'lon': '-79.4023056',\n",
       "   'id': '4459',\n",
       "   'dirTag': '504_1_504A',\n",
       "   'lat': '43.6440467',\n",
       "   'secsSinceReport': '28'},\n",
       "  {'routeTag': '504',\n",
       "   'predictable': 'true',\n",
       "   'heading': '216',\n",
       "   'speedKmHr': '0',\n",
       "   'lon': '-79.35686',\n",
       "   'id': '4550',\n",
       "   'dirTag': '504_1_504A',\n",
       "   'lat': '43.65082',\n",
       "   'secsSinceReport': '28'},\n",
       "  {'routeTag': '504',\n",
       "   'predictable': 'true',\n",
       "   'heading': '73',\n",
       "   'speedKmHr': '0',\n",
       "   'lon': '-79.3785316',\n",
       "   'id': '4430',\n",
       "   'dirTag': '504_0_504A',\n",
       "   'lat': '43.6490194',\n",
       "   'secsSinceReport': '28'},\n",
       "  {'routeTag': '504',\n",
       "   'predictable': 'true',\n",
       "   'heading': '73',\n",
       "   'speedKmHr': '26',\n",
       "   'lon': '-79.3813858',\n",
       "   'id': '4597',\n",
       "   'dirTag': '504_0_504B',\n",
       "   'lat': '43.6484069',\n",
       "   'secsSinceReport': '28'},\n",
       "  {'routeTag': '504',\n",
       "   'predictable': 'true',\n",
       "   'heading': '216',\n",
       "   'speedKmHr': '0',\n",
       "   'lon': '-79.4544663',\n",
       "   'id': '8429',\n",
       "   'dirTag': '504_0_504Cbus',\n",
       "   'lat': '43.6569134',\n",
       "   'secsSinceReport': '27'},\n",
       "  {'routeTag': '504',\n",
       "   'predictable': 'true',\n",
       "   'heading': '254',\n",
       "   'speedKmHr': '0',\n",
       "   'lon': '-79.4018666',\n",
       "   'id': '4547',\n",
       "   'dirTag': '504_1_504B',\n",
       "   'lat': '43.6441375',\n",
       "   'secsSinceReport': '28'},\n",
       "  {'routeTag': '504',\n",
       "   'predictable': 'true',\n",
       "   'heading': '254',\n",
       "   'speedKmHr': '0',\n",
       "   'lon': '-79.3994482',\n",
       "   'id': '4506',\n",
       "   'dirTag': '504_1_504A',\n",
       "   'lat': '43.6445994',\n",
       "   'secsSinceReport': '28'},\n",
       "  {'routeTag': '504',\n",
       "   'predictable': 'true',\n",
       "   'heading': '331',\n",
       "   'speedKmHr': '11',\n",
       "   'lon': '-79.4541734',\n",
       "   'id': '8563',\n",
       "   'dirTag': '504_1_504Cbus',\n",
       "   'lat': '43.6401473',\n",
       "   'secsSinceReport': '27'},\n",
       "  {'routeTag': '504',\n",
       "   'predictable': 'false',\n",
       "   'heading': '55',\n",
       "   'speedKmHr': '8',\n",
       "   'lon': '-79.42595',\n",
       "   'id': '8486',\n",
       "   'lat': '43.6344566',\n",
       "   'secsSinceReport': '27'},\n",
       "  {'routeTag': '504',\n",
       "   'predictable': 'true',\n",
       "   'heading': '256',\n",
       "   'speedKmHr': '9',\n",
       "   'lon': '-79.3960428',\n",
       "   'id': '8487',\n",
       "   'dirTag': '504_1_504Cbus',\n",
       "   'lat': '43.6453234',\n",
       "   'secsSinceReport': '28'},\n",
       "  {'routeTag': '504',\n",
       "   'predictable': 'true',\n",
       "   'heading': '171',\n",
       "   'speedKmHr': '13',\n",
       "   'lon': '-79.4525222',\n",
       "   'id': '8485',\n",
       "   'dirTag': '504_0_504Cbus',\n",
       "   'lat': '43.6563529',\n",
       "   'secsSinceReport': '27'},\n",
       "  {'routeTag': '504',\n",
       "   'predictable': 'true',\n",
       "   'heading': '324',\n",
       "   'speedKmHr': '0',\n",
       "   'lon': '-79.3586058',\n",
       "   'id': '4562',\n",
       "   'dirTag': '504_0_504B',\n",
       "   'lat': '43.6759323',\n",
       "   'secsSinceReport': '28'},\n",
       "  {'routeTag': '504',\n",
       "   'predictable': 'true',\n",
       "   'heading': '18',\n",
       "   'speedKmHr': '9',\n",
       "   'lon': '-79.350034',\n",
       "   'id': '4486',\n",
       "   'dirTag': '504_0_504B',\n",
       "   'lat': '43.658802',\n",
       "   'secsSinceReport': '28'},\n",
       "  {'routeTag': '504',\n",
       "   'predictable': 'true',\n",
       "   'heading': '254',\n",
       "   'speedKmHr': '0',\n",
       "   'lon': '-79.4025525',\n",
       "   'id': '8081',\n",
       "   'dirTag': '504_1_504Cbus',\n",
       "   'lat': '43.6439978',\n",
       "   'secsSinceReport': '27'},\n",
       "  {'routeTag': '504',\n",
       "   'predictable': 'true',\n",
       "   'heading': '106',\n",
       "   'speedKmHr': '9',\n",
       "   'lon': '-79.4049987',\n",
       "   'id': '4518',\n",
       "   'dirTag': '504_0_504A',\n",
       "   'lat': '43.6360893',\n",
       "   'secsSinceReport': '28'},\n",
       "  {'routeTag': '504',\n",
       "   'predictable': 'true',\n",
       "   'heading': '252',\n",
       "   'speedKmHr': '0',\n",
       "   'lon': '-79.3890632',\n",
       "   'id': '4555',\n",
       "   'dirTag': '504_1_504B',\n",
       "   'lat': '43.6467594',\n",
       "   'secsSinceReport': '28'},\n",
       "  {'routeTag': '504',\n",
       "   'predictable': 'true',\n",
       "   'heading': '41',\n",
       "   'speedKmHr': '0',\n",
       "   'lon': '-79.3838452',\n",
       "   'id': '8514',\n",
       "   'dirTag': '504_0_504Cbus',\n",
       "   'lat': '43.6477964',\n",
       "   'secsSinceReport': '27'},\n",
       "  {'routeTag': '504',\n",
       "   'predictable': 'true',\n",
       "   'heading': '41',\n",
       "   'speedKmHr': '0',\n",
       "   'lon': '-79.3835174',\n",
       "   'id': '8559',\n",
       "   'dirTag': '504_0_504Cbus',\n",
       "   'lat': '43.6478599',\n",
       "   'secsSinceReport': '28'}]}"
      ]
     },
     "execution_count": 6,
     "metadata": {},
     "output_type": "execute_result"
    }
   ],
   "source": [
    "# location of vehicles\n",
    "locations"
   ]
  },
  {
   "cell_type": "code",
   "execution_count": null,
   "id": "374b9c9f",
   "metadata": {},
   "outputs": [],
   "source": []
  },
  {
   "cell_type": "code",
   "execution_count": 89,
   "id": "ba0fe404",
   "metadata": {},
   "outputs": [
    {
     "name": "stdout",
     "output_type": "stream",
     "text": [
      "2022-10-11 21:40:43\n"
     ]
    }
   ],
   "source": [
    "timestamp = int(locations['lastTime']['time'])\n",
    "your_dt = datetime.datetime.fromtimestamp(int(timestamp)/1000) \n",
    "print(your_dt.strftime(\"%Y-%m-%d %H:%M:%S\"))  # 2018-04-07 20:48:08, YMMV"
   ]
  }
 ],
 "metadata": {
  "kernelspec": {
   "display_name": "Python 3 (ipykernel)",
   "language": "python",
   "name": "python3"
  },
  "language_info": {
   "codemirror_mode": {
    "name": "ipython",
    "version": 3
   },
   "file_extension": ".py",
   "mimetype": "text/x-python",
   "name": "python",
   "nbconvert_exporter": "python",
   "pygments_lexer": "ipython3",
   "version": "3.9.7"
  }
 },
 "nbformat": 4,
 "nbformat_minor": 5
}
